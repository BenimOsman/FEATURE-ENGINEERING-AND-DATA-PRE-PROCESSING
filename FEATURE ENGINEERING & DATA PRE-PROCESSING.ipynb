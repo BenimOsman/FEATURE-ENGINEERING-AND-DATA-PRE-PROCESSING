{
 "cells": [
  {
   "cell_type": "markdown",
   "id": "7f23e2a6-a63c-4287-8475-7d2ca7a8f13b",
   "metadata": {},
   "source": [
    "# FEATURE ENGINEERING & DATA PRE-PROCESSING"
   ]
  },
  {
   "cell_type": "code",
   "execution_count": 7,
   "id": "b9d2e4f5-5ae0-4f7c-97cf-fcdf263d0869",
   "metadata": {},
   "outputs": [],
   "source": [
    "import numpy as np\n",
    "import pandas as pd\n",
    "import seaborn as sns\n",
    "import missingno as msno\n",
    "from datetime import date\n",
    "from matplotlib import pyplot as plt\n",
    "from sklearn.metrics import accuracy_score\n",
    "from sklearn.neighbors import LocalOutlierFactor\n",
    "from sklearn.model_selection import train_test_split\n",
    "from sklearn.preprocessing import MinMaxScaler, LabelEncoder, StandardScaler, RobustScaler"
   ]
  },
  {
   "cell_type": "markdown",
   "id": "5aeb711d-09c9-4d8a-944b-3ac0dc88bd94",
   "metadata": {},
   "source": [
    "**Importing Datasets**"
   ]
  },
  {
   "cell_type": "code",
   "execution_count": 13,
   "id": "641694f1-1778-4147-8f97-ffe1be08774e",
   "metadata": {},
   "outputs": [],
   "source": [
    "# Smaller Dataset\n",
    "def load():\n",
    "    data = pd.read_csv(\"titanic.csv\")\n",
    "    return data"
   ]
  },
  {
   "cell_type": "code",
   "execution_count": 15,
   "id": "3166ab02-893e-4791-8805-17f3680745a1",
   "metadata": {},
   "outputs": [
    {
     "name": "stdout",
     "output_type": "stream",
     "text": [
      "(891, 12)\n"
     ]
    }
   ],
   "source": [
    "# See the shape of smaller dataset\n",
    "df = load()\n",
    "print(df.shape)"
   ]
  },
  {
   "cell_type": "code",
   "execution_count": 11,
   "id": "8ee6b323-6e02-4fef-84bc-e6c1f410c26d",
   "metadata": {},
   "outputs": [],
   "source": [
    "# Bigger Dataset\n",
    "def load_application_train():\n",
    "    data = pd.read_csv(\"application_train.csv\")\n",
    "    return data"
   ]
  },
  {
   "cell_type": "code",
   "execution_count": 12,
   "id": "64af5da1-16f7-475c-9b48-390499c2c090",
   "metadata": {},
   "outputs": [
    {
     "name": "stdout",
     "output_type": "stream",
     "text": [
      "(307511, 122)\n"
     ]
    }
   ],
   "source": [
    "# See the shape of bigger dataset\n",
    "df = load_application_train()\n",
    "print(df.shape)       "
   ]
  },
  {
   "cell_type": "markdown",
   "id": "0d2e05ee-cf41-467c-9547-79bf85fd82a2",
   "metadata": {},
   "source": [
    "<p> Let's begin with the Smaller Dataset, \"titanic.csv\". <br>\n",
    "We will try to detect outliers in a numerical 'Age' column by using boxplot. </p>"
   ]
  },
  {
   "cell_type": "code",
   "execution_count": 17,
   "id": "dbc33431-659e-41c6-9750-272c8cdec9d6",
   "metadata": {},
   "outputs": [
    {
     "data": {
      "image/png": "[encoded data removed]",
      "text/plain": [
       "<Figure size 640x480 with 1 Axes>"
      ]
     },
     "metadata": {},
     "output_type": "display_data"
    }
   ],
   "source": [
    "sns.boxplot(x = df[\"Age\"])\n",
    "plt.show()"
   ]
  },
  {
   "cell_type": "markdown",
   "id": "e3ec5e03-e696-400a-9a3c-d47d7cc5d718",
   "metadata": {},
   "source": [
    "<p> Find Q1 (25th percentile) and Q3 (75th percentile), and then minimum and maximum values by using 1.5 IQR. </p>"
   ]
  },
  {
   "cell_type": "code",
   "execution_count": 18,
   "id": "84685bb6-846d-4a21-8be1-5c97336577fb",
   "metadata": {},
   "outputs": [],
   "source": [
    "q1 = df[\"Age\"].quantile(0.25)\n",
    "q3 = df[\"Age\"].quantile(0.75)\n",
    "iqr = q3 - q1\n",
    "up = q3 + 1.5 * iqr\n",
    "low = q1 - 1.5 * iqr"
   ]
  },
  {
   "cell_type": "code",
   "execution_count": 20,
   "id": "a675960f-54ea-4eaf-bc1f-600d6e6aef35",
   "metadata": {},
   "outputs": [
    {
     "name": "stdout",
     "output_type": "stream",
     "text": [
      "     PassengerId  Survived  Pclass                                  Name  \\\n",
      "33            34         0       2                 Wheadon, Mr. Edward H   \n",
      "54            55         0       1        Ostby, Mr. Engelhart Cornelius   \n",
      "96            97         0       1             Goldschmidt, Mr. George B   \n",
      "116          117         0       3                  Connors, Mr. Patrick   \n",
      "280          281         0       3                      Duane, Mr. Frank   \n",
      "456          457         0       1             Millet, Mr. Francis Davis   \n",
      "493          494         0       1               Artagaveytia, Mr. Ramon   \n",
      "630          631         1       1  Barkworth, Mr. Algernon Henry Wilson   \n",
      "672          673         0       2           Mitchell, Mr. Henry Michael   \n",
      "745          746         0       1          Crosby, Capt. Edward Gifford   \n",
      "851          852         0       3                   Svensson, Mr. Johan   \n",
      "\n",
      "      Sex   Age  SibSp  Parch      Ticket     Fare Cabin Embarked  \n",
      "33   male  66.0      0      0  C.A. 24579  10.5000   NaN        S  \n",
      "54   male  65.0      0      1      113509  61.9792   B30        C  \n",
      "96   male  71.0      0      0    PC 17754  34.6542    A5        C  \n",
      "116  male  70.5      0      0      370369   7.7500   NaN        Q  \n",
      "280  male  65.0      0      0      336439   7.7500   NaN        Q  \n",
      "456  male  65.0      0      0       13509  26.5500   E38        S  \n",
      "493  male  71.0      0      0    PC 17609  49.5042   NaN        C  \n",
      "630  male  80.0      0      0       27042  30.0000   A23        S  \n",
      "672  male  70.0      0      0  C.A. 24580  10.5000   NaN        S  \n",
      "745  male  70.0      1      1   WE/P 5735  71.0000   B22        S  \n",
      "851  male  74.0      0      0      347060   7.7750   NaN        S  \n"
     ]
    }
   ],
   "source": [
    "# Printing Outliers\n",
    "print(df[(df[\"Age\"] < low) | (df[\"Age\"] > up)])"
   ]
  },
  {
   "cell_type": "code",
   "execution_count": 21,
   "id": "c7bfaf97-0a3e-49e9-9040-57f45154cfd6",
   "metadata": {},
   "outputs": [
    {
     "name": "stdout",
     "output_type": "stream",
     "text": [
      "Index([33, 54, 96, 116, 280, 456, 493, 630, 672, 745, 851], dtype='int64')\n"
     ]
    }
   ],
   "source": [
    "# Index of Outliers\n",
    "print(df[(df[\"Age\"] < low) | (df[\"Age\"] > up)].index)"
   ]
  },
  {
   "cell_type": "code",
   "execution_count": 23,
   "id": "6136c5d6-b5d2-4536-881e-17a3a8674fc8",
   "metadata": {},
   "outputs": [
    {
     "name": "stdout",
     "output_type": "stream",
     "text": [
      "True\n"
     ]
    }
   ],
   "source": [
    "# Check if there is a outlier or not using any() function.\n",
    "print(df[(df[\"Age\"] < low) | (df[\"Age\"] > up)].any(axis = None)) "
   ]
  },
  {
   "cell_type": "markdown",
   "id": "e0f49286-151e-4823-bc36-44bf8607b2e1",
   "metadata": {},
   "source": [
    "<p> It returns true because there are some rows that lie beyond the thresholds we specified. Used a parameter called axis = None since we don't care rows or columns. </p>"
   ]
  },
  {
   "cell_type": "code",
   "execution_count": 26,
   "id": "68f98699-fee3-4708-a3d7-e15b47f197a2",
   "metadata": {},
   "outputs": [
    {
     "name": "stdout",
     "output_type": "stream",
     "text": [
      "False\n"
     ]
    }
   ],
   "source": [
    "# Therefore, the below code will return false since there is no outlier that is lower than the threshold.\n",
    "print(df[(df[\"Age\"] < low)].any(axis = None)) "
   ]
  },
  {
   "cell_type": "code",
   "execution_count": 27,
   "id": "e75666a3-fa8c-4225-ba79-8b2bb75f926e",
   "metadata": {},
   "outputs": [],
   "source": [
    "def outlier_thresholds(dataframe, col_name, q1=0.25, q3=0.75):\n",
    "    quartile1 = dataframe[col_name].quantile(q1)\n",
    "    quartile3 = dataframe[col_name].quantile(q3)\n",
    "    interquantile_range = quartile3 - quartile1\n",
    "    up_limit = quartile3 + 1.5 * interquantile_range\n",
    "    low_limit = quartile1 - 1.5 * interquantile_range\n",
    "    return low_limit, up_limit"
   ]
  },
  {
   "cell_type": "code",
   "execution_count": 28,
   "id": "3bfdb1ed-bc66-4cf1-bc97-03f993557a88",
   "metadata": {},
   "outputs": [
    {
     "name": "stdout",
     "output_type": "stream",
     "text": [
      "(-6.6875, 64.8125)\n"
     ]
    }
   ],
   "source": [
    "print(outlier_thresholds(df, \"Age\"))"
   ]
  },
  {
   "cell_type": "markdown",
   "id": "791fb2c4-740f-417b-be68-917280f90cfb",
   "metadata": {},
   "source": [
    "<p> As we can see, if age is below -6.68 or higher 64.81, we can say that it is an outlier. But age cannot be lower than 0. So we don't need to care lower threshold since it is -6.68 </p>"
   ]
  },
  {
   "cell_type": "code",
   "execution_count": 29,
   "id": "50281c43-719b-478a-9e6a-0167e20be536",
   "metadata": {},
   "outputs": [
    {
     "name": "stdout",
     "output_type": "stream",
     "text": [
      "    PassengerId  Survived  Pclass  \\\n",
      "1             2         1       1   \n",
      "27           28         0       1   \n",
      "31           32         1       1   \n",
      "34           35         0       1   \n",
      "52           53         1       1   \n",
      "\n",
      "                                                 Name     Sex   Age  SibSp  \\\n",
      "1   Cumings, Mrs. John Bradley (Florence Briggs Th...  female  38.0      1   \n",
      "27                     Fortune, Mr. Charles Alexander    male  19.0      3   \n",
      "31     Spencer, Mrs. William Augustus (Marie Eugenie)  female   NaN      1   \n",
      "34                            Meyer, Mr. Edgar Joseph    male  28.0      1   \n",
      "52           Harper, Mrs. Henry Sleeper (Myna Haxtun)  female  49.0      1   \n",
      "\n",
      "    Parch    Ticket      Fare        Cabin Embarked  \n",
      "1       0  PC 17599   71.2833          C85        C  \n",
      "27      2     19950  263.0000  C23 C25 C27        S  \n",
      "31      0  PC 17569  146.5208          B78        C  \n",
      "34      0  PC 17604   82.1708          NaN        C  \n",
      "52      0  PC 17572   76.7292          D33        C  \n"
     ]
    }
   ],
   "source": [
    "low, up = outlier_thresholds(df, \"Fare\")\n",
    "print(df[(df[\"Fare\"] < low) | (df[\"Fare\"] > up)].head())"
   ]
  },
  {
   "cell_type": "code",
   "execution_count": 31,
   "id": "34e6bf0e-0600-447b-b94e-b487d91c2af2",
   "metadata": {},
   "outputs": [
    {
     "name": "stdout",
     "output_type": "stream",
     "text": [
      "True\n",
      "True\n"
     ]
    }
   ],
   "source": [
    "# Write a function that check if there is any outliers.\n",
    "def check_outlier(dataframe, col_name):\n",
    "    low_limit, up_limit = outlier_thresholds(dataframe, col_name)\n",
    "    if dataframe[(dataframe[col_name] > up_limit) | (dataframe[col_name] < low_limit)].any(axis=None):\n",
    "        return True\n",
    "    else:\n",
    "        return False\n",
    "\n",
    "print(check_outlier(df, \"Age\"))    # True  (yes, there is at least 1 outlier.)\n",
    "print(check_outlier(df, \"Fare\"))   # True  (yes, there is at least 1 outlier.)"
   ]
  },
  {
   "cell_type": "code",
   "execution_count": 33,
   "id": "d28597b2-6873-4434-aa09-815064a859ed",
   "metadata": {},
   "outputs": [
    {
     "name": "stdout",
     "output_type": "stream",
     "text": [
      "Observations: 891\n",
      "Variables: 12\n",
      "cat_cols: 6\n",
      "num_cols: 3\n",
      "cat_but_car: 3\n",
      "num_but_cat: 4\n",
      "['Age', 'Fare']\n"
     ]
    }
   ],
   "source": [
    "# We will try to grab categorical columns, categorical but cardinal columns and numerical columns. \n",
    "\n",
    "def grab_col_names(dataframe, cat_th=10, car_th=20):\n",
    "    '''\n",
    "    Returns categorical columns list, numerical columns list and categorical but cardinal column list.\n",
    "\n",
    "    Parameters\n",
    "    ----------\n",
    "    dataframe: dataframe\n",
    "        main dataframe\n",
    "    cat_th: int, float\n",
    "        threshold for the number of unique variable of a column that seems numerical but actually categorical\n",
    "    car_th: int, float\n",
    "        threshold for the number of unique variable of a column that seems categorical but actually cardinal\n",
    "    \n",
    "    Returns\n",
    "    -------\n",
    "    cat_cols: list\n",
    "        list of categorical columns\n",
    "    num_cols: list\n",
    "        list of numerical columns\n",
    "    cat_but_car: list\n",
    "        list of of cardinal columns\n",
    "    \n",
    "    Notes\n",
    "    ------\n",
    "    -> cat_cols + num_cols + cat_but_car = the number of columns of dataframe\n",
    "    -> cat_cols includes num_but_cat\n",
    "    -> Categorical variables with numerical appearance are also included in categorical variables.\n",
    "\n",
    "    Examples\n",
    "    ------\n",
    "        import seaborn as sns\n",
    "        df = sns.load_dataset(\"iris\")\n",
    "        print(grab_col_names(df))\n",
    "    '''\n",
    "    cat_cols = [col for col in dataframe.columns if dataframe[col].dtypes == \"O\"]\n",
    "    num_but_cat = [col for col in dataframe.columns if dataframe[col].nunique() < cat_th and dataframe[col].dtypes != \"O\"]\n",
    "    cat_but_car = [col for col in dataframe.columns if dataframe[col].nunique() > car_th and dataframe[col].dtypes == \"O\"]\n",
    "    cat_cols = cat_cols + num_but_cat\n",
    "    cat_cols = [col for col in cat_cols if col not in cat_but_car]\n",
    "    num_cols = [col for col in dataframe.columns if dataframe[col].dtypes != \"O\" and col not in num_but_cat]\n",
    "\n",
    "    print(f\"Observations: {dataframe.shape[0]}\")\n",
    "    print(f\"Variables: {dataframe.shape[1]}\")\n",
    "    print(f\"cat_cols: {len(cat_cols)}\")\n",
    "    print(f\"num_cols: {len(num_cols)}\")\n",
    "    print(f\"cat_but_car: {len(cat_but_car)}\")\n",
    "    print(f\"num_but_cat: {len(num_but_cat)}\")\n",
    "\n",
    "    return cat_cols, num_cols, cat_but_car\n",
    "\n",
    "cat_cols, num_cols, cat_but_car = grab_col_names(df)\n",
    "\n",
    "num_cols = [col for col in num_cols if col not in \"PassengerId\"]\n",
    "print(num_cols) "
   ]
  },
  {
   "cell_type": "code",
   "execution_count": 34,
   "id": "610378a3-cac1-4a4e-b39d-96b09a5add92",
   "metadata": {},
   "outputs": [
    {
     "name": "stdout",
     "output_type": "stream",
     "text": [
      "Age True\n",
      "Fare True\n"
     ]
    }
   ],
   "source": [
    "# We will check outliers in numerical columns.\n",
    "for col in num_cols:\n",
    "    print(col, check_outlier(df, col))"
   ]
  },
  {
   "cell_type": "code",
   "execution_count": 35,
   "id": "e349f925-3e57-4284-a123-4d43ffc54205",
   "metadata": {},
   "outputs": [
    {
     "name": "stdout",
     "output_type": "stream",
     "text": [
      "Observations: 307511\n",
      "Variables: 122\n",
      "cat_cols: 54\n",
      "num_cols: 67\n",
      "cat_but_car: 1\n",
      "num_but_cat: 39\n"
     ]
    }
   ],
   "source": [
    "# Let's import application_train.csv\n",
    "\n",
    "dff = load_application_train()\n",
    "cat_cols, num_cols, cat_but_car = grab_col_names(dff)"
   ]
  },
  {
   "cell_type": "code",
   "execution_count": 36,
   "id": "5c8f97c3-da2e-42f1-9de8-493b1962de87",
   "metadata": {},
   "outputs": [
    {
     "name": "stdout",
     "output_type": "stream",
     "text": [
      "\n",
      "\n"
     ]
    }
   ],
   "source": [
    "# Although 'SK_ID_CURR' is a numerical column, it is irrelevant for us. Therefore, we will remove it from num_cols\n",
    "\n",
    "num_cols.remove('SK_ID_CURR')\n",
    "print()\n",
    "print()"
   ]
  },
  {
   "cell_type": "code",
   "execution_count": 37,
   "id": "9b73aa71-206e-4094-af07-0a26c8eb8fed",
   "metadata": {},
   "outputs": [
    {
     "name": "stdout",
     "output_type": "stream",
     "text": [
      "CNT_CHILDREN True\n",
      "AMT_INCOME_TOTAL True\n",
      "AMT_CREDIT True\n",
      "AMT_ANNUITY True\n",
      "AMT_GOODS_PRICE True\n",
      "REGION_POPULATION_RELATIVE True\n",
      "DAYS_BIRTH False\n",
      "DAYS_EMPLOYED True\n",
      "DAYS_REGISTRATION True\n",
      "DAYS_ID_PUBLISH False\n",
      "OWN_CAR_AGE True\n",
      "CNT_FAM_MEMBERS True\n",
      "HOUR_APPR_PROCESS_START True\n",
      "EXT_SOURCE_1 False\n",
      "EXT_SOURCE_2 False\n",
      "EXT_SOURCE_3 False\n",
      "APARTMENTS_AVG True\n",
      "BASEMENTAREA_AVG True\n",
      "YEARS_BEGINEXPLUATATION_AVG True\n",
      "YEARS_BUILD_AVG True\n",
      "COMMONAREA_AVG True\n",
      "ELEVATORS_AVG True\n",
      "ENTRANCES_AVG True\n",
      "FLOORSMAX_AVG True\n",
      "FLOORSMIN_AVG True\n",
      "LANDAREA_AVG True\n",
      "LIVINGAPARTMENTS_AVG True\n",
      "LIVINGAREA_AVG True\n",
      "NONLIVINGAPARTMENTS_AVG True\n",
      "NONLIVINGAREA_AVG True\n",
      "APARTMENTS_MODE True\n",
      "BASEMENTAREA_MODE True\n",
      "YEARS_BEGINEXPLUATATION_MODE True\n",
      "YEARS_BUILD_MODE True\n",
      "COMMONAREA_MODE True\n",
      "ELEVATORS_MODE True\n",
      "ENTRANCES_MODE True\n",
      "FLOORSMAX_MODE True\n",
      "FLOORSMIN_MODE True\n",
      "LANDAREA_MODE True\n",
      "LIVINGAPARTMENTS_MODE True\n",
      "LIVINGAREA_MODE True\n",
      "NONLIVINGAPARTMENTS_MODE True\n",
      "NONLIVINGAREA_MODE True\n",
      "APARTMENTS_MEDI True\n",
      "BASEMENTAREA_MEDI True\n",
      "YEARS_BEGINEXPLUATATION_MEDI True\n",
      "YEARS_BUILD_MEDI True\n",
      "COMMONAREA_MEDI True\n",
      "ELEVATORS_MEDI True\n",
      "ENTRANCES_MEDI True\n",
      "FLOORSMAX_MEDI True\n",
      "FLOORSMIN_MEDI True\n",
      "LANDAREA_MEDI True\n",
      "LIVINGAPARTMENTS_MEDI True\n",
      "LIVINGAREA_MEDI True\n",
      "NONLIVINGAPARTMENTS_MEDI True\n",
      "NONLIVINGAREA_MEDI True\n",
      "TOTALAREA_MODE True\n",
      "OBS_30_CNT_SOCIAL_CIRCLE True\n",
      "DEF_30_CNT_SOCIAL_CIRCLE True\n",
      "OBS_60_CNT_SOCIAL_CIRCLE True\n",
      "DAYS_LAST_PHONE_CHANGE True\n",
      "AMT_REQ_CREDIT_BUREAU_MON True\n",
      "AMT_REQ_CREDIT_BUREAU_QRT True\n",
      "AMT_REQ_CREDIT_BUREAU_YEAR True\n"
     ]
    }
   ],
   "source": [
    "for col in num_cols:\n",
    "    print(col, check_outlier(dff, col))"
   ]
  },
  {
   "cell_type": "code",
   "execution_count": 39,
   "id": "89566f77-c627-40d0-9735-62dc2b0ce4bf",
   "metadata": {},
   "outputs": [
    {
     "name": "stdout",
     "output_type": "stream",
     "text": [
      "     PassengerId  Survived  Pclass                            Name   Sex  \\\n",
      "33            34         0       2           Wheadon, Mr. Edward H  male   \n",
      "54            55         0       1  Ostby, Mr. Engelhart Cornelius  male   \n",
      "96            97         0       1       Goldschmidt, Mr. George B  male   \n",
      "116          117         0       3            Connors, Mr. Patrick  male   \n",
      "280          281         0       3                Duane, Mr. Frank  male   \n",
      "\n",
      "      Age  SibSp  Parch      Ticket     Fare Cabin Embarked  \n",
      "33   66.0      0      0  C.A. 24579  10.5000   NaN        S  \n",
      "54   65.0      0      1      113509  61.9792   B30        C  \n",
      "96   71.0      0      0    PC 17754  34.6542    A5        C  \n",
      "116  70.5      0      0      370369   7.7500   NaN        Q  \n",
      "280  65.0      0      0      336439   7.7500   NaN        Q  \n"
     ]
    }
   ],
   "source": [
    "# The function below will show us the outlier values for the associated column. If there are outliers more than 10, it will only show us first 5 (f = 5) outliers. Otherwise, it will show all outliers. \n",
    "\n",
    "def grab_outliers(dataframe, col_name, outlier_index=False, f = 5):\n",
    "    low, up = outlier_thresholds(dataframe, col_name)\n",
    " \n",
    "    if dataframe[((dataframe[col_name] < low) | (dataframe[col_name] > up))].shape[0] > 10:\n",
    "        print(dataframe[((dataframe[col_name] < low) | (dataframe[col_name] > up))].head(f))\n",
    "    else:\n",
    "        print(dataframe[((dataframe[col_name] < low) | (dataframe[col_name] > up))])\n",
    "\n",
    "    if outlier_index:\n",
    "        out_index = dataframe[((dataframe[col_name] < low) | (dataframe[col_name] > up))].index\n",
    "        return out_index\n",
    "        \n",
    "age_index = grab_outliers(df, \"Age\", True)"
   ]
  },
  {
   "cell_type": "markdown",
   "id": "e69e14e5-a0bf-4963-9d15-62020781d353",
   "metadata": {},
   "source": [
    "<p> To Deal With Outliers: We can remove them, or we can change outliers with threshold values. Most of the times, it is better to change outliers with threshold value, because if you remove an outlier and its row, then you loss all other columns of that row. Therefore, it is better to change with threshold value instead of removing them. </p>"
   ]
  },
  {
   "cell_type": "code",
   "execution_count": 40,
   "id": "27df5311-a829-4d52-942a-b22f1fd8e7a8",
   "metadata": {},
   "outputs": [],
   "source": [
    "df = load()"
   ]
  },
  {
   "cell_type": "code",
   "execution_count": 42,
   "id": "e2ce6fda-ac60-4582-979e-2dacf0831e27",
   "metadata": {},
   "outputs": [
    {
     "name": "stdout",
     "output_type": "stream",
     "text": [
      "(891, 12)\n"
     ]
    }
   ],
   "source": [
    "low, up = outlier_thresholds(df, \"Fare\")\n",
    "print(df.shape) # (891, 12)"
   ]
  },
  {
   "cell_type": "code",
   "execution_count": 45,
   "id": "9e00b8b9-fe97-4c4e-9900-bc8bbb872ac2",
   "metadata": {},
   "outputs": [
    {
     "name": "stdout",
     "output_type": "stream",
     "text": [
      "(775, 12)\n"
     ]
    }
   ],
   "source": [
    "# We used tilda (~) in order to see the shape of data without outliers! \n",
    "print(df[~((df[\"Fare\"] < low) | (df[\"Fare\"] > up))].shape)"
   ]
  },
  {
   "cell_type": "code",
   "execution_count": 48,
   "id": "bd636bfb-ec19-4175-8a2b-2fa0debd0a36",
   "metadata": {},
   "outputs": [
    {
     "name": "stdout",
     "output_type": "stream",
     "text": [
      "Observations: 891\n",
      "Variables: 12\n",
      "cat_cols: 6\n",
      "num_cols: 3\n",
      "cat_but_car: 3\n",
      "num_but_cat: 4\n"
     ]
    }
   ],
   "source": [
    "def remove_outlier(dataframe, col_name):\n",
    "    low_limit, up_limit = outlier_thresholds(dataframe, col_name)\n",
    "    df_without_outliers = dataframe[~((dataframe[col_name] < low_limit) | (dataframe[col_name] > up_limit))]\n",
    "    return df_without_outliers\n",
    "    \n",
    "cat_cols, num_cols, cat_but_car = grab_col_names(df)"
   ]
  },
  {
   "cell_type": "code",
   "execution_count": 49,
   "id": "97500530-0d3d-46d3-a82b-3b9f0fe14510",
   "metadata": {},
   "outputs": [
    {
     "name": "stdout",
     "output_type": "stream",
     "text": [
      "(765, 12)\n"
     ]
    }
   ],
   "source": [
    "num_cols.remove('PassengerId')\n",
    "\n",
    "for col in num_cols:\n",
    "    df = remove_outlier(df,col)\n",
    "\n",
    "# Now we removed 'Age' outliers and 'Fare' outliers. Age has 10 outliers and Fare has 116 outliers, therefore we removed 126 outliers. \n",
    "print(df.shape)"
   ]
  },
  {
   "cell_type": "code",
   "execution_count": 50,
   "id": "71058a0d-65be-47d1-b13e-75eb1cac95d1",
   "metadata": {},
   "outputs": [],
   "source": [
    "# Now we will assign outliers with thresholds. We can write a function for this\n",
    "def replace_with_thresholds(dataframe, variable):\n",
    "    low_limit, up_limit = outlier_thresholds(dataframe, variable)\n",
    "    dataframe.loc[(dataframe[variable] < low_limit), variable] = low_limit\n",
    "    dataframe.loc[(dataframe[variable] > up_limit), variable] = up_limit"
   ]
  },
  {
   "cell_type": "code",
   "execution_count": 52,
   "id": "5b31c640-45b8-4155-b8ff-4de62a503b91",
   "metadata": {},
   "outputs": [
    {
     "name": "stdout",
     "output_type": "stream",
     "text": [
      "Observations: 891\n",
      "Variables: 12\n",
      "cat_cols: 6\n",
      "num_cols: 3\n",
      "cat_but_car: 3\n",
      "num_but_cat: 4\n"
     ]
    }
   ],
   "source": [
    "df = load()\n",
    "\n",
    "cat_cols, num_cols, cat_but_car = grab_col_names(df)"
   ]
  },
  {
   "cell_type": "code",
   "execution_count": 53,
   "id": "69ba195b-62f1-4493-96dd-dd7a2d83c10b",
   "metadata": {},
   "outputs": [
    {
     "name": "stdout",
     "output_type": "stream",
     "text": [
      "Observations: 891\n",
      "Variables: 12\n",
      "cat_cols: 6\n",
      "num_cols: 3\n",
      "cat_but_car: 3\n",
      "num_but_cat: 4\n"
     ]
    }
   ],
   "source": [
    "cat_cols, num_cols, cat_but_car = grab_col_names(df)"
   ]
  },
  {
   "cell_type": "code",
   "execution_count": 54,
   "id": "f4b4e6a9-b41b-4213-9434-cffaddb57345",
   "metadata": {},
   "outputs": [],
   "source": [
    "num_cols.remove('PassengerId')"
   ]
  },
  {
   "cell_type": "code",
   "execution_count": 55,
   "id": "bd0ac59d-45cb-430e-82cb-55553aace141",
   "metadata": {},
   "outputs": [
    {
     "name": "stdout",
     "output_type": "stream",
     "text": [
      "Age True\n",
      "Fare True\n"
     ]
    }
   ],
   "source": [
    "# Detecting which column has outliers.\n",
    "\n",
    "for col in num_cols:\n",
    "    print(col, check_outlier(df, col))"
   ]
  },
  {
   "cell_type": "code",
   "execution_count": 56,
   "id": "8e202672-2775-49d0-bd99-9c6a23c42a06",
   "metadata": {},
   "outputs": [],
   "source": [
    "# Now replace these outliers with thresholds.\n",
    "for col in num_cols:\n",
    "    replace_with_thresholds(df, col)"
   ]
  },
  {
   "cell_type": "code",
   "execution_count": 57,
   "id": "3fac8193-3467-47a4-a0bd-1572cf4f60d3",
   "metadata": {},
   "outputs": [
    {
     "name": "stdout",
     "output_type": "stream",
     "text": [
      "Age False\n",
      "Fare False\n"
     ]
    }
   ],
   "source": [
    "# After replacing, we shouldn't have any outlier. So let's check again.\n",
    "for col in num_cols:\n",
    "    print(col, check_outlier(df, col))"
   ]
  },
  {
   "cell_type": "markdown",
   "id": "1feea773-8b14-4db9-b0f5-af268287ad38",
   "metadata": {},
   "source": [
    "**NOTE:** \n",
    "Local Outlier Factor (LOF) is a score that tells how likely a certain data point is an outlier/anomaly.\n",
    "\n",
    "LOF ≈ 1 or -1 ⇒ no outlier <br>\n",
    "LOF ≫ 1 or ≪ -1 ⇒ outlier"
   ]
  },
  {
   "cell_type": "markdown",
   "id": "6ea4832b-4be6-4ee3-9d56-ac24c38d3051",
   "metadata": {},
   "source": [
    "\n",
    "# SYED FAISAL\n",
    "## KIIT UNIVERSITY\n"
   ]
  }
 ],
 "metadata": {
  "kernelspec": {
   "display_name": "Python 3 (ipykernel)",
   "language": "python",
   "name": "python3"
  },
  "language_info": {
   "codemirror_mode": {
    "name": "ipython",
    "version": 3
   },
   "file_extension": ".py",
   "mimetype": "text/x-python",
   "name": "python",
   "nbconvert_exporter": "python",
   "pygments_lexer": "ipython3",
   "version": "3.12.4"
  }
 },
 "nbformat": 4,
 "nbformat_minor": 5
}
